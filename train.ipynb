{
  "cells": [
    {
      "cell_type": "code",
      "execution_count": null,
      "metadata": {
        "gather": {
          "logged": 1734286588882
        },
        "jupyter": {
          "outputs_hidden": false
        }
      },
      "outputs": [],
      "source": [
        "# adding kernel\n",
        "# https://medium.com/@lerouxpierre/how-to-add-kernels-to-your-jupyter-notebooks-within-azure-ml-studio-6495895c9d4a\n",
        "# fix \"kernel reset\" error\n",
        "# https://stackoverflow.com/questions/77902093/error-kernel-reset-in-azure-ml-compute-jupyterlab\n",
        "\n",
        "# %conda config --append channels anaconda\n",
        "# %conda config --add channels conda-forge\n",
        "# %conda config --add channels conda\n",
        "\n",
        "# to allow conda managing pypi packages\n",
        "%conda config --set pip_interop_enabled True\n",
        "\n",
        "# %conda update -n base conda\n",
        "# %conda install python=3.12 dask=2024.12.0 adlfs=2024.7.0 pytorch=2.5.1 scikit-learn=1.5.1 pyarrow=18.0.0 pandas=2.2.3 numpy=2.2.0\n",
        "\n",
        "%conda install scikit-learn=1.5.1 onnx=1.17.0\n",
        "%pip install onnxscript\n"
      ]
    },
    {
      "cell_type": "code",
      "execution_count": null,
      "metadata": {
        "gather": {
          "logged": 1733724558668
        },
        "jupyter": {
          "outputs_hidden": false,
          "source_hidden": false
        },
        "nteract": {
          "transient": {
            "deleting": false
          }
        }
      },
      "outputs": [],
      "source": [
        "%conda config --show"
      ]
    },
    {
      "cell_type": "code",
      "execution_count": null,
      "metadata": {
        "gather": {
          "logged": 1734279651432
        },
        "jupyter": {
          "outputs_hidden": false,
          "source_hidden": false
        },
        "nteract": {
          "transient": {
            "deleting": false
          }
        }
      },
      "outputs": [],
      "source": [
        "%conda list\n",
        "# %conda --version"
      ]
    },
    {
      "cell_type": "code",
      "execution_count": 17,
      "metadata": {
        "gather": {
          "logged": 1734286629140
        },
        "jupyter": {
          "outputs_hidden": false,
          "source_hidden": false
        },
        "nteract": {
          "transient": {
            "deleting": false
          }
        }
      },
      "outputs": [],
      "source": [
        "# import dask.dataframe as dd\n",
        "import pandas as pd\n"
      ]
    },
    {
      "cell_type": "code",
      "execution_count": 18,
      "metadata": {
        "gather": {
          "logged": 1734286632985
        },
        "jupyter": {
          "outputs_hidden": false,
          "source_hidden": false
        },
        "nteract": {
          "transient": {
            "deleting": false
          }
        }
      },
      "outputs": [],
      "source": [
        "from sklearn.preprocessing import LabelEncoder, MinMaxScaler\n",
        "from sklearn.model_selection import train_test_split\n",
        "from torch.utils.data import TensorDataset, DataLoader\n"
      ]
    },
    {
      "cell_type": "code",
      "execution_count": null,
      "metadata": {
        "gather": {
          "logged": 1734286636666
        },
        "jupyter": {
          "outputs_hidden": false,
          "source_hidden": false
        },
        "nteract": {
          "transient": {
            "deleting": false
          }
        }
      },
      "outputs": [],
      "source": [
        "storage_options = {\n",
        "    \"account_name\": \"lnglattzw21586036186\",\n",
        "    \"account_key\" : \"REMOVE\",\n",
        "}\n",
        "\n",
        "df = pd.read_parquet(\n",
        "    [\n",
        "        \"data2/lng-lat-tz/data0_0.parquet\",\n",
        "        \"data2/lng-lat-tz/data1_0.parquet\",\n",
        "        # \"data2/lng-lat-tz/data2_0.parquet\",\n",
        "    ],\n",
        "    # \"az://lng-lat-tz/data1*.parquet\",\n",
        "    # aggregate_files     = True,\n",
        "    # split_row_groups    = 'adaptive',\n",
        "    # storage_options     = storage_options,\n",
        "    # dtype={'lng': 'float', 'lat': 'float', 'tz': 'string'}\n",
        "    # use_nullable_dtypes = True,\n",
        ")\n",
        "\n",
        "# test\n",
        "df.head()"
      ]
    },
    {
      "cell_type": "code",
      "execution_count": 20,
      "metadata": {
        "gather": {
          "logged": 1734279667377
        },
        "jupyter": {
          "outputs_hidden": false,
          "source_hidden": false
        },
        "nteract": {
          "transient": {
            "deleting": false
          }
        }
      },
      "outputs": [],
      "source": [
        "# test azure with dask or pandas\n",
        "# storage_options = {'account_name': 'azureopendatastorage'}\n",
        "# ddf = dd.read_parquet('az://nyctlc/green/puYear=2019/puMonth=*/*.parquet', storage_options=storage_options)\n",
        "# ddf.head()"
      ]
    },
    {
      "cell_type": "code",
      "execution_count": 92,
      "metadata": {
        "gather": {
          "logged": 1734286641045
        },
        "jupyter": {
          "outputs_hidden": false,
          "source_hidden": false
        },
        "nteract": {
          "transient": {
            "deleting": false
          }
        }
      },
      "outputs": [],
      "source": [
        "import torch\n",
        "import torch.nn as nn\n",
        "\n",
        "class NeuralNetwork(nn.Module):\n",
        "    def __init__(self, out_neurons):\n",
        "        super().__init__()\n",
        "        # l2-8-32\n",
        "        power_l1 = 3\n",
        "        power_l2 = 5\n",
        "        power_l3 = 5\n",
        "        power_l4 = 5\n",
        "        power_l5 = 6\n",
        "        power_l6 = 7\n",
        "        power_l7 = 8\n",
        "        power_l8 = 9\n",
        "        power_l9 = 9\n",
        "        power_l10 = 9\n",
        "        self.flatten = nn.Flatten()\n",
        "        self.linear_relu_stack = nn.Sequential(\n",
        "            nn.Linear(2, 2 ** power_l1),\n",
        "            nn.ReLU(),\n",
        "            nn.Linear(2 ** power_l1, 2 ** power_l2),\n",
        "            nn.ReLU(),\n",
        "            nn.Linear(2 ** power_l2, 2 ** power_l3),\n",
        "            nn.ReLU(),\n",
        "            # nn.Linear(2 ** power_l3, 2 ** power_l4),\n",
        "            # nn.ReLU(),\n",
        "            # nn.Linear(2 ** power_l4, 2 ** power_l5),\n",
        "            # nn.ReLU(),\n",
        "            # nn.Linear(2 ** power_l5, 2 ** power_l6),\n",
        "            # nn.ReLU(),\n",
        "            # nn.Linear(2 ** power_l6, 2 ** power_l7),\n",
        "            # nn.ReLU(),\n",
        "            # nn.Linear(2 ** power_l7, 2 ** power_l8),\n",
        "            # nn.ReLU(),\n",
        "            # nn.Linear(2 ** power_l8, 2 ** power_l9),\n",
        "            # nn.ReLU(),\n",
        "            # nn.Linear(2 ** power_l9, 2 ** power_l10),\n",
        "            # nn.ReLU(),\n",
        "            nn.Linear(2 ** power_l3, out_neurons),\n",
        "        )\n",
        "\n",
        "    def forward(self, x):\n",
        "        x = self.flatten(x)\n",
        "        logits = self.linear_relu_stack(x)\n",
        "        return logits\n"
      ]
    },
    {
      "cell_type": "code",
      "execution_count": 93,
      "metadata": {
        "gather": {
          "logged": 1734286644395
        },
        "jupyter": {
          "outputs_hidden": false,
          "source_hidden": false
        },
        "nteract": {
          "transient": {
            "deleting": false
          }
        }
      },
      "outputs": [],
      "source": [
        "def train_loop(batch_size, dataloader, model, loss_fn, optimizer):\n",
        "    size = len(dataloader.dataset)\n",
        "    # Set the model to training mode - important for batch normalization and dropout layers\n",
        "    # Unnecessary in this situation but added for best practices\n",
        "    model.train()\n",
        "    for batch, (X, y) in enumerate(dataloader):\n",
        "        # Compute prediction and loss\n",
        "        pred = model(X)\n",
        "        loss = loss_fn(pred, y)\n",
        "\n",
        "        # Backpropagation\n",
        "        loss.backward()\n",
        "        optimizer.step()\n",
        "        optimizer.zero_grad()\n",
        "\n",
        "        if batch % 1_000_000 == 0:\n",
        "            loss, current = loss.item(), batch * batch_size + len(X)\n",
        "            print(f\"loss: {loss:>7f}  [{current:>5d}/{size:>5d}]\")\n",
        "\n",
        "\n",
        "def test_loop(dataloader, model, loss_fn):\n",
        "    # Set the model to evaluation mode - important for batch normalization and dropout layers\n",
        "    # Unnecessary in this situation but added for best practices\n",
        "    model.eval()\n",
        "    size = len(dataloader.dataset)\n",
        "    num_batches = len(dataloader)\n",
        "    test_loss, correct = 0, 0\n",
        "\n",
        "    # Evaluating the model with torch.no_grad() ensures that no gradients are computed during test mode\n",
        "    # also serves to reduce unnecessary gradient computations and memory usage for tensors with requires_grad=True\n",
        "    with torch.no_grad():\n",
        "        for X, y in dataloader:\n",
        "            pred = model(X)\n",
        "            test_loss += loss_fn(pred, y).item()\n",
        "            correct += (pred.argmax(1) == y).type(torch.float).sum().item()\n",
        "\n",
        "    test_loss /= num_batches\n",
        "    correct /= size\n",
        "    print(f\"Test Error: \\n Accuracy: {(100*correct):>0.1f}%, Avg loss: {test_loss:>8f} \\n\")\n",
        "    return correct, test_loss\n"
      ]
    },
    {
      "cell_type": "code",
      "execution_count": 23,
      "metadata": {
        "gather": {
          "logged": 1734232610577
        },
        "jupyter": {
          "outputs_hidden": false,
          "source_hidden": false
        },
        "nteract": {
          "transient": {
            "deleting": false
          }
        }
      },
      "outputs": [],
      "source": [
        "# memorize \n",
        "# df = df.compute()"
      ]
    },
    {
      "cell_type": "code",
      "execution_count": null,
      "metadata": {
        "gather": {
          "logged": 1734286648081
        },
        "jupyter": {
          "outputs_hidden": false,
          "source_hidden": false
        },
        "nteract": {
          "transient": {
            "deleting": false
          }
        }
      },
      "outputs": [],
      "source": [
        "device = (\n",
        "    \"cuda\"\n",
        "    if torch.cuda.is_available()\n",
        "    else \"mps\"\n",
        "    if torch.backends.mps.is_available()\n",
        "    else \"cpu\"\n",
        ")\n",
        "\n",
        "# validate device\n",
        "device"
      ]
    },
    {
      "cell_type": "code",
      "execution_count": 95,
      "metadata": {
        "gather": {
          "logged": 1734286656453
        },
        "jupyter": {
          "outputs_hidden": false,
          "source_hidden": false
        },
        "nteract": {
          "transient": {
            "deleting": false
          }
        }
      },
      "outputs": [],
      "source": [
        "y = df.drop(['lng', 'lat'], axis=1)\n",
        "X = df.drop(['tz'], axis=1)\n",
        "\n",
        "# scaler = MinMaxScaler()\n",
        "# X_normalized = pd.DataFrame(scaler.fit_transform(X), columns=X.columns)\n",
        "\n",
        "l_t = LabelEncoder()\n",
        "y_label_encoding = y.apply(lambda x : l_t.fit_transform(x))\n",
        "\n",
        "X_train, X_test, y_train, y_test = train_test_split(X, y_label_encoding, test_size = 0.2, shuffle= True)\n",
        "\n",
        "X_train = torch.FloatTensor(X_train.values).to(device)\n",
        "X_test = torch.FloatTensor(X_test.values).to(device)\n",
        "y_train = torch.flatten(torch.LongTensor(y_train.values)).to(device)\n",
        "y_test = torch.flatten(torch.LongTensor(y_test.values)).to(device)\n",
        "\n",
        "training_data = TensorDataset(X_train, y_train)\n",
        "test_data = TensorDataset(X_test, y_test)"
      ]
    },
    {
      "cell_type": "code",
      "execution_count": null,
      "metadata": {},
      "outputs": [],
      "source": [
        "# class_count = y.value_counts().count()\n",
        "class_count = len(l_t.classes_)\n",
        "class_count"
      ]
    },
    {
      "cell_type": "code",
      "execution_count": 97,
      "metadata": {},
      "outputs": [],
      "source": [
        "# dump labels\n",
        "# from https://stackoverflow.com/questions/28656736/using-scikits-labelencoder-correctly-across-multiple-programs\n",
        "import numpy\n",
        "numpy.savetxt('all_tz_d01.txt', l_t.classes_, fmt=\"%s\")\n",
        "# numpy.save('classes.npy', l_t.classes_)"
      ]
    },
    {
      "cell_type": "code",
      "execution_count": null,
      "metadata": {
        "gather": {
          "logged": 1734286963359
        },
        "jupyter": {
          "outputs_hidden": false,
          "source_hidden": false
        },
        "nteract": {
          "transient": {
            "deleting": false
          }
        }
      },
      "outputs": [],
      "source": [
        "learning_rate = 1e-3 # 4\n",
        "model = NeuralNetwork(class_count).to(device)\n",
        "optimizer = torch.optim.Adam(model.parameters(), lr=learning_rate)\n"
      ]
    },
    {
      "cell_type": "code",
      "execution_count": null,
      "metadata": {},
      "outputs": [],
      "source": [
        "model = model.to(device)\n",
        "batch_size = 32 * 8 # 32\n",
        "epochs = 10 # 100\n",
        "loss_fn = nn.CrossEntropyLoss()\n",
        "\n",
        "train_dataloader = DataLoader(training_data, batch_size=batch_size)\n",
        "test_dataloader = DataLoader(test_data, batch_size=batch_size)\n",
        "\n",
        "for t in range(epochs):\n",
        "    print(f\"Epoch {t+1}\\n-------------------------------\")\n",
        "    train_loop(batch_size, train_dataloader, model, loss_fn, optimizer)\n",
        "    correct, test_loss = test_loop(test_dataloader, model, loss_fn)"
      ]
    },
    {
      "cell_type": "code",
      "execution_count": null,
      "metadata": {},
      "outputs": [],
      "source": [
        "#checkpoint\n",
        "torch.save({\n",
        "            'epoch': epochs,\n",
        "            'model_state_dict': model.to('cpu').state_dict(),\n",
        "            'optimizer_state_dict': optimizer.state_dict(),\n",
        "            'loss': test_loss,\n",
        "            'accuracy': correct,\n",
        "            }, \"model_l2_8_32_32_d01_e10_c1.pt\")"
      ]
    },
    {
      "cell_type": "markdown",
      "metadata": {
        "nteract": {
          "transient": {
            "deleting": false
          }
        }
      },
      "source": [
        "l2-2-r-data1-cpu(ef-box), batch=64, lr=0.001/Adam, epochs=1:\n",
        "- loading: ?\n",
        "- Accuracy: 32.7%, Avg loss: 2.712187\n",
        "- runtime: ?\n",
        "\n",
        "l2-2-r-data1-gpu, batch=64, lr=0.001/Adam, epochs=1:\n",
        "- loading: ?\n",
        "- Accuracy: 31.7%, Avg loss: 2.649778\n",
        "- runtime: 2:41\n",
        "\n",
        "l2-2-r-data2-gpu, batch=64, lr=0.001/Adam, epochs=1:\n",
        "- loading: 2:50\n",
        "- Accuracy: none\n",
        "- runtime: canceled after 1hr, est 4hrs \n",
        "- cpu: 100%\n",
        "- ram: 32%\n",
        "\n",
        "l2-2-r-data1-gpu, batch=32x8, lr=0.001/Adam, epochs=1:\n",
        "- loading: 1sec\n",
        "- Accuracy: 30.7%, Avg loss: 2.920631\n",
        "- runtime: 1:18\n",
        "- cpu: 100%\n",
        "- ram: 15%\n",
        "\n",
        "l2-1K-r-data1-gpu, batch=32x8, lr=0.001/Adam, epochs=1:\n",
        "- loading: NA\n",
        "- Accuracy: 79.1%, Avg loss: 0.598570\n",
        "- runtime: 1:29\n",
        "- cpu: 100%\n",
        "- ram: 15%\n",
        "\n",
        "l2-1M-r-data1-gpu, batch=32x8, lr=0.001/Adam, epochs=1:\n",
        "- loading: 1sec\n",
        "- loss: 10\n",
        "- runtime: canceled after 8min\n",
        "- cpu: 100%\n",
        "- ram: 1%\n",
        "\n",
        "l2-128-r-data1-gpu, batch=32x8, lr=0.001/Adam, epochs=1:\n",
        "- loading: 1sec\n",
        "- Accuracy: 69.8%, Avg loss: 0.894220\n",
        "- runtime: 1:27\n",
        "- cpu: 100%\n",
        "- ram: 1%\n",
        "\n",
        "l2-4K-r-data1-gpu, batch=32x8, lr=0.001/Adam, epochs=1:\n",
        "- loading: 1sec\n",
        "- Accuracy: 78.8%, Avg loss: 0.582083\n",
        "- runtime: 1:29\n",
        "- cpu: 100%\n",
        "- ram: 1%\n",
        "\n",
        "l2-(512-r)x2-data1-gpu, batch=32x8, lr=0.001/Adam, epochs=1:\n",
        "- loading: 1sec\n",
        "- Accuracy: 82.4%, Avg loss: 0.473214\n",
        "- runtime: 1:29\n",
        "- cpu: 100%\n",
        "- ram: 1%\n",
        "\n",
        "l2-(512-r)x2-data1-gpu, batch=32x8, lr=0.001/Adam, epochs=10:\n",
        "- loading: 1sec\n",
        "- Accuracy: 89.0%, Avg loss: 0.293857\n",
        "- runtime: 14:38\n",
        "- cpu: 100%\n",
        "- ram: 1%\n",
        "\n",
        "l2-(512-r)x2-data1-gpu, batch=32x8, lr=0.1/Adam, epochs=1:\n",
        "- loading: 1sec\n",
        "- Accuracy: 3.6%, Avg loss: 4.470265\n",
        "- runtime: 1:29\n",
        "- cpu: 100%\n",
        "- ram: 1%\n",
        "\n",
        "l2-(512-r)x2-data1-gpu, batch=32x8, lr=0.0001/Adam, epochs=1:\n",
        "- loading: 1sec\n",
        "- Accuracy: 74.3%, Avg loss: 0.783508\n",
        "- runtime: 1:29\n",
        "- cpu: 100%\n",
        "- ram: 1%\n",
        "\n",
        "l2-(512-r)x2-data1-gpu, batch=32, lr=0.001/Adam, epochs=1:\n",
        "- loading: 1sec\n",
        "- Accuracy: 70.3%, Avg loss: 0.942639\n",
        "- runtime: 5:02\n",
        "- cpu: 100%\n",
        "- ram: 1%\n",
        "\n",
        "l2-(512-r)x2-data1-gpu, batch=32x16, lr=0.001/Adam, epochs=1:\n",
        "- loading: 1sec\n",
        "- Accuracy: 79.8%, Avg loss: 0.530371\n",
        "- runtime: 1:05\n",
        "- cpu: 100%\n",
        "- ram: 1%\n",
        "\n",
        "l2-(512-r)x2-data1-gpu, batch=32x4, lr=0.001/Adam, epochs=1:\n",
        "- loading: 1sec\n",
        "- Accuracy: 78.7%, Avg loss: 0.557121\n",
        "- runtime: 1:50\n",
        "- cpu: 100%\n",
        "- ram: 1%\n",
        "\n",
        "l2-(512-r)x3-data1-gpu, batch=32x8, lr=0.001/Adam, epochs=1:\n",
        "- loading: 1sec\n",
        "- Accuracy: 78.1%, Avg loss: 0.532118\n",
        "- runtime: 1:30\n",
        "- cpu: 100%\n",
        "- ram: 1%\n",
        "\n",
        "l2-(512-r)x2-data1-gpu, batch=32x8, lr=0.001/Adam, epochs=1 (reproduce prev result):\n",
        "- loading: 1sec\n",
        "- Accuracy: 81.9%, Avg loss: 0.494453\n",
        "- runtime: 1:26\n",
        "- cpu: 100%\n",
        "- ram: 1%\n",
        "\n",
        "l2-(512-r)x5-data1-gpu, batch=32x8, lr=0.001/Adam, epochs=1:\n",
        "- loading: 1sec\n",
        "- Accuracy: 84.7%, Avg loss: 0.388047\n",
        "- runtime: 1:42\n",
        "- cpu: 100%\n",
        "- ram: 1%\n",
        "\n",
        "l2-(512-r)x10-data1-gpu, batch=32x8, lr=0.001/Adam, epochs=1:\n",
        "- loading: 1sec\n",
        "- Accuracy: 80.7%, Avg loss: 0.532438\n",
        "- runtime: 2:04\n",
        "- cpu: 100%\n",
        "- ram: 1%\n",
        "\n",
        "l2-(512-r)x5-data2-gpu, batch=32x8, lr=0.001/Adam, epochs=1:\n",
        "- loading: 2:59\n",
        "- Accuracy: 95.2%, Avg loss: 0.118907\n",
        "- runtime: 2:48:00\n",
        "- cpu: 100%\n",
        "- ram: 32%\n",
        "\n",
        "l2-(512-r)x10-data0+1-gpu, batch=32x8, lr=0.001/Adam, epochs=1:\n",
        "- loading: 1sec\n",
        "- Accuracy: 81.3%, Avg loss: 0.457877\n",
        "- runtime: 2:08\n",
        "- cpu: 100%\n",
        "- ram: 1%\n",
        "\n",
        "l2-(512-r)x10-data0+1-gpu, batch=32x8, lr=0.001/Adam, epochs=1, normalized:\n",
        "- loading: 1sec\n",
        "- Accuracy: 78.9%, Avg loss: 0.629528\n",
        "- runtime: 2:06\n",
        "- cpu: 100%\n",
        "- ram: 1%\n",
        "\n",
        "l2-(4K-r)x10-data0+1-gpu, batch=32x8, lr=0.001/Adam, epochs=5, normalized:\n",
        "- loading: 1sec\n",
        "- Accuracy: 88.6%, Avg loss: 0.299482\n",
        "- runtime: 58:00\n",
        "- cpu: 100%\n",
        "- ram: 2%\n",
        "\n",
        "l2-(512-r)x7-data0+1-gpu, batch=32x8, lr=0.001/Adam, epochs=1:\n",
        "- loading: 1sec\n",
        "- Accuracy: 84.5%, Avg loss: 0.385082\n",
        "- runtime: 1:43\n",
        "- cpu: 100%\n",
        "- ram: 1%\n",
        "\n",
        "l2-(512-r)x6-data0+1-gpu, batch=32x8, lr=0.001/Adam, epochs=1:\n",
        "- loading: 1sec\n",
        "- Accuracy: 81.3%, Avg loss: 0.474233\n",
        "- runtime: 1:38\n",
        "- cpu: 100%\n",
        "- ram: 2%\n",
        "\n",
        "l2-(512-r)x4-data0+1-gpu, batch=32x8, lr=0.001/Adam, epochs=1:\n",
        "- loading: 1sec\n",
        "- Accuracy: 77.6%, Avg loss: 0.563156\n",
        "- runtime: 1:29\n",
        "- cpu: 100%\n",
        "- ram: 1%\n"
      ]
    },
    {
      "cell_type": "markdown",
      "metadata": {},
      "source": [
        "\n",
        "l2-4-8-16-32-64-128-256-512-data0+1-gpu, batch=32x8, lr=0.001/Adam, epochs=1:\n",
        "- loading: ?\n",
        "- Accuracy: 84.1%, Avg loss: 0.423310\n",
        "- runtime: 2:10\n",
        "- cpu: ?\n",
        "- ram: ?\n",
        "\n",
        "l2-4-16-64-256-data0+1-gpu, batch=32x8, lr=0.001/Adam, epochs=1:\n",
        "- loading: 2sec\n",
        "- Accuracy: 83.7%, Avg loss: 0.439120\n",
        "- runtime: 1:44\n",
        "- cpu: 100%\n",
        "- ram: 1%\n",
        "\n",
        "l2-16-64-256-data0+1-gpu, batch=32x8, lr=0.001/Adam, epochs=1:\n",
        "- loading: 2sec\n",
        "- Accuracy: 77.3%, Avg loss: 0.633657\n",
        "- runtime: 1:42\n",
        "- cpu: 100%\n",
        "- ram: 1%\n",
        "- pt size: 530K\n",
        "\n",
        "l2-16-64-256-data0+1-gpu, batch=32x8, lr=0.001/Adam, epochs=10:\n",
        "- loading: 2sec\n",
        "- Accuracy: 87.6%, Avg loss: 0.314940\n",
        "- runtime: 16:02\n",
        "- cpu: 100%\n",
        "- ram: 1%\n",
        "- pt size: 530K\n",
        "\n",
        "l2-4-16-64-256-data0+1-gpu, batch=32x8, lr=0.001/Adam, epochs=10:\n",
        "- loading: ?\n",
        "- Accuracy: 88.5%, Avg loss: 0.286072\n",
        "- runtime: 16:00\n",
        "- cpu: 100%\n",
        "- ram: 2%\n",
        "- pt size: 530K\n",
        "\n",
        "l2-8-32-128-data0+1-gpu, batch=32x8, lr=0.001/Adam, epochs=10:\n",
        "- loading: 2sec\n",
        "- Accuracy: 91.2%, Avg loss: 0.219734\n",
        "- runtime: 16:10\n",
        "- cpu: 100%\n",
        "- ram: 1%\n",
        "- pt size: 250K\n",
        "\n",
        "\n",
        "l2-32-128-data0+1-gpu, batch=32x8, lr=0.001/Adam, epochs=10:\n",
        "- loading: 2sec\n",
        "- Accuracy: 88.9%, Avg loss: 0.288932\n",
        "- runtime: 15:24\n",
        "- cpu: 100%\n",
        "- ram: 2%\n",
        "- pt size: 250K\n",
        "\n",
        "l2-8-32-data0+1-gpu, batch=32x8, lr=0.001/Adam, epochs=10:\n",
        "- loading: 2sec\n",
        "- Accuracy: 85.7%, Avg loss: 0.403887\n",
        "- runtime: 15:27\n",
        "- cpu: 100%\n",
        "- ram: 2%\n",
        "- pt size: 64K\n",
        "\n",
        "l2-8-32-data0+1-gpu, batch=32x8, lr=0.001/Adam, epochs=10, autocast_float16:\n",
        "- loading: 2sec\n",
        "- Accuracy: 0.0%, Avg loss: 14.854309\n",
        "- runtime: 16:00\n",
        "- cpu: 100%\n",
        "- ram: 2%\n",
        "- pt size: 64K\n",
        "\n",
        "l2-8-32-data0+1-gpu, batch=32x8, lr=0.001/Adam, epochs=10, autocast_bfloat16:\n",
        "- loading: ?\n",
        "- ???\n",
        "- runtime: canceled due to high loss\n",
        "- cpu: 100%\n",
        "- ram: 2%\n",
        "- pt size: ?\n",
        "\n",
        "l2-8-32-32-data0+1-gpu, batch=32x8, lr=0.001/Adam, epochs=10:\n",
        "- loading: 2sec\n",
        "- Accuracy: 88.6%, Avg loss: 0.302761\n",
        "- runtime: 15:58\n",
        "- cpu: 100%\n",
        "- ram: 2%\n",
        "- pt size: 70K\n",
        "\n",
        "l2-8-32-32-32-data0+1-gpu, batch=32x8, lr=0.001/Adam, epochs=10:\n",
        "- loading: 2sec\n",
        "- Accuracy: 87.5%, Avg loss: 0.323829\n",
        "- runtime: 16:57\n",
        "- cpu: 100%\n",
        "- ram: 2%\n",
        "- pt size: 75K\n",
        "\n",
        "l2-8-32-32-data0+1+2-gpu, batch=32x8, lr=0.001/Adam, epochs=3:\n",
        "- loading: 3min\n",
        "- Accuracy: 89.9%, Avg loss: 0.272230 \n",
        "- Accuracy: 90.3%, Avg loss: 0.248181 \n",
        "- Accuracy: 88.6%, Avg loss: 0.321969\n",
        "- runtime: 7:49\n",
        "- cpu: 100%\n",
        "- ram: 33%\n",
        "- pt size: 70K\n",
        "\n",
        "l2-8-32-32-32-data0+1-gpu, batch=32x8, lr=0.001/Adam, epochs=10 (repro with checkpoint saving):\n",
        "- loading: 2sec\n",
        "- Accuracy: 86.1%, Avg loss: 0.361473\n",
        "- runtime: 17:00\n",
        "- cpu: 100%\n",
        "- ram: 1%\n",
        "- cp size: 202K\n"
      ]
    },
    {
      "cell_type": "code",
      "execution_count": null,
      "metadata": {},
      "outputs": [],
      "source": [
        "# loading checkpoint for continuing training or adjusting\n",
        "checkpoint = torch.load(\"model_l2_8_32_32_d01_e10_c1.pt\", map_location=torch.device('cpu'), weights_only=True)\n",
        "model.load_state_dict(checkpoint['model_state_dict'])\n",
        "optimizer.load_state_dict(checkpoint['optimizer_state_dict'])\n",
        "model.train()"
      ]
    },
    {
      "cell_type": "code",
      "execution_count": null,
      "metadata": {},
      "outputs": [],
      "source": [
        "# import onnx \n",
        "# # save onnx\n",
        "# dummy_input = torch.randn(1, 2)\n",
        "\n",
        "# # # 18k file + 4M data file\n",
        "# torch.onnx.export(\n",
        "#     model.to('cpu'),                  # model to export\n",
        "#     dummy_input,        # inputs of the model,\n",
        "#     \"model_l2_8_32_32_d01_e1.onnx\",        # filename of the ONNX model\n",
        "#     input_names=[\"lng-lat\"],  # Rename inputs for the ONNX model\n",
        "#     dynamo=True,             # True or False to select the exporter to use\n",
        "#     save_as_external_data=False,\n",
        "#     # all_tensors_to_one_file=True,\n",
        "# )"
      ]
    },
    {
      "cell_type": "code",
      "execution_count": null,
      "metadata": {},
      "outputs": [],
      "source": [
        "# adding ArgMax & Label Encoder after\n",
        "# https://stackoverflow.com/questions/72348419/how-to-add-argmax-to-the-end-of-onnx-model\n",
        "import onnx\n",
        "argmax = onnx.helper.make_node(\n",
        "    'ArgMax',\n",
        "    inputs=['argmax_inp'],\n",
        "    outputs=['argmax_out'],\n",
        "    axis=1,\n",
        "    keepdims=1,\n",
        "    )\n",
        "\n",
        "\n",
        "label_encoder = onnx.helper.make_node(\n",
        "    'LabelEncoder',\n",
        "    inputs=['argmax_out'],\n",
        "    outputs=['label_encoder_out'],\n",
        "    domain=\"ai.onnx.ml\",  # Domain of the operator (for LabelEncoder it is ai.onnx.ml)\n",
        "    keys_int64s=range(int(class_count)),  # List of ints to decode\n",
        "    values_strings=l_t.classes_,  # Corresponding strings\n",
        "    # default_int64=42,  # Default value for unknown strings\n",
        "    )\n",
        "\n",
        "graph = onnx.helper.make_graph(\n",
        "    nodes=[\n",
        "        argmax, \n",
        "        label_encoder\n",
        "    ],\n",
        "    name=\"post_layers\",\n",
        "    inputs=[\n",
        "        onnx.helper.make_tensor_value_info(\n",
        "            \"argmax_inp\", onnx.TensorProto.FLOAT, [1, int(class_count)]\n",
        "        )\n",
        "    ],\n",
        "    outputs=[\n",
        "        onnx.helper.make_tensor_value_info(\n",
        "            \"label_encoder_out\", onnx.TensorProto.STRING, [1, 1]\n",
        "        )\n",
        "        # onnx.helper.make_tensor_value_info(\n",
        "        #     \"argmax_out\", onnx.TensorProto.INT64, [1, 1]\n",
        "        # )\n",
        "    ],\n",
        ")\n",
        "\n",
        "dummy_input = torch.randn(1, 2)\n",
        "onnx_model = torch.onnx.export(\n",
        "    model.to('cpu'),                  # model to export\n",
        "    dummy_input,\n",
        "    input_names=[\"lng-lat\"],\n",
        "    output_names=[\"logits\"],\n",
        "    dynamo=True\n",
        ")\n",
        "\n",
        "combined_graph = onnx.compose.merge_graphs(\n",
        "    onnx_model.model_proto.graph, \n",
        "    graph, \n",
        "    io_map=[(\"logits\", \"argmax_inp\")]\n",
        ")\n",
        "\n",
        "# renaming input that way does not work for dependencies\n",
        "# combined_graph.input[0].name = \"lng-lat\"\n",
        "\n",
        "combined_model = onnx.helper.make_model(combined_graph)\n",
        "\n",
        "# testing on original model\n",
        "# combined_model = onnx.helper.make_model(onnx_model.model_proto.graph)\n",
        "\n",
        "# set op version, defaul version 22 does not work during inference\n",
        "combined_model.opset_import[0].version = 21\n",
        "# 5M file for unknown reason\n",
        "onnx.save(combined_model, \"model-l2-8-32-32-d01-e10.onnx\")"
      ]
    }
  ],
  "metadata": {
    "kernel_info": {
      "name": "python38-azureml-pt-tf"
    },
    "kernelspec": {
      "display_name": "Python 3.8 - Pytorch and Tensorflow",
      "language": "python",
      "name": "python38-azureml-pt-tf"
    },
    "language_info": {
      "codemirror_mode": {
        "name": "ipython",
        "version": 3
      },
      "file_extension": ".py",
      "mimetype": "text/x-python",
      "name": "python",
      "nbconvert_exporter": "python",
      "pygments_lexer": "ipython3",
      "version": "3.10.14"
    },
    "microsoft": {
      "host": {
        "AzureML": {
          "notebookHasBeenCompleted": true
        }
      },
      "ms_spell_check": {
        "ms_spell_check_language": "en"
      }
    },
    "nteract": {
      "version": "nteract-front-end@1.0.0"
    }
  },
  "nbformat": 4,
  "nbformat_minor": 2
}
